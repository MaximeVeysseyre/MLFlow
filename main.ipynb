{
 "cells": [
  {
   "cell_type": "code",
   "execution_count": 51,
   "metadata": {},
   "outputs": [],
   "source": [
    "import tensorflow as tf\n",
    "import matplotlib.pyplot as plt\n",
    "import numpy as np\n",
    "import cv2\n",
    "import mlflow\n",
    "import mlflow.keras\n",
    "\n",
    "from tensorflow.keras.models import Sequential\n",
    "from tensorflow.keras.layers import Conv2D, MaxPooling2D, AveragePooling2D\n",
    "from tensorflow.keras.layers import Activation, Dropout, Flatten, Dense\n",
    "from tensorflow.keras.models import load_model\n",
    "from tensorflow.keras.models import Model\n",
    "from tensorflow.keras.preprocessing import image\n",
    "from tensorflow.keras.callbacks import EarlyStopping\n",
    "from PIL import Image\n",
    "\n",
    "import modules.images.utils as im"
   ]
  },
  {
   "cell_type": "code",
   "execution_count": 52,
   "metadata": {},
   "outputs": [
    {
     "output_type": "execute_result",
     "data": {
      "text/plain": [
       "(32, 32, 3)"
      ]
     },
     "metadata": {},
     "execution_count": 52
    }
   ],
   "source": [
    "# J'aimerais savoir la taille des images de notre jeu de données.\n",
    "taille_image = cv2.imread(\"./data/test/apple/0001.png\")\n",
    "taille_image.shape"
   ]
  },
  {
   "cell_type": "code",
   "execution_count": 53,
   "metadata": {},
   "outputs": [
    {
     "output_type": "stream",
     "name": "stdout",
     "text": [
      "Found 2800 images belonging to 7 classes.\n",
      "Found 700 images belonging to 7 classes.\n"
     ]
    }
   ],
   "source": [
    "image_data_generator = tf.keras.preprocessing.image.ImageDataGenerator(validation_split=0.2)\n",
    "\n",
    "TRAIN_DATA_DIR = './data/train'\n",
    "TRAIN_IMAGE_SIZE = 32\n",
    "TRAIN_BATCH_SIZE = 32\n",
    "\n",
    "train_generator = image_data_generator.flow_from_directory(\n",
    "    TRAIN_DATA_DIR,\n",
    "    target_size=(TRAIN_IMAGE_SIZE, TRAIN_IMAGE_SIZE),\n",
    "    batch_size=TRAIN_BATCH_SIZE,\n",
    "    class_mode='categorical',\n",
    "    subset='training')\n",
    "    \n",
    "validation_generator = image_data_generator.flow_from_directory(\n",
    "    TRAIN_DATA_DIR,\n",
    "    target_size=(TRAIN_IMAGE_SIZE, TRAIN_IMAGE_SIZE),\n",
    "    batch_size=TRAIN_BATCH_SIZE,\n",
    "    class_mode='categorical',\n",
    "    subset='validation')"
   ]
  },
  {
   "cell_type": "code",
   "execution_count": 54,
   "metadata": {},
   "outputs": [],
   "source": [
    "epochs = 1\n",
    "patience = 8"
   ]
  },
  {
   "cell_type": "code",
   "execution_count": 55,
   "metadata": {},
   "outputs": [
    {
     "output_type": "stream",
     "name": "stdout",
     "text": [
      "Model: \"sequential_6\"\n_________________________________________________________________\nLayer (type)                 Output Shape              Param #   \n=================================================================\nconv2d_24 (Conv2D)           (None, 32, 32, 16)        448       \n_________________________________________________________________\nmax_pooling2d_18 (MaxPooling (None, 16, 16, 16)        0         \n_________________________________________________________________\ndense_30 (Dense)             (None, 16, 16, 32)        544       \n_________________________________________________________________\ndropout_18 (Dropout)         (None, 16, 16, 32)        0         \n_________________________________________________________________\nconv2d_25 (Conv2D)           (None, 16, 16, 32)        9248      \n_________________________________________________________________\nmax_pooling2d_19 (MaxPooling (None, 8, 8, 32)          0         \n_________________________________________________________________\ndense_31 (Dense)             (None, 8, 8, 64)          2112      \n_________________________________________________________________\ndropout_19 (Dropout)         (None, 8, 8, 64)          0         \n_________________________________________________________________\nconv2d_26 (Conv2D)           (None, 8, 8, 64)          36928     \n_________________________________________________________________\nmax_pooling2d_20 (MaxPooling (None, 4, 4, 64)          0         \n_________________________________________________________________\ndense_32 (Dense)             (None, 4, 4, 128)         8320      \n_________________________________________________________________\ndropout_20 (Dropout)         (None, 4, 4, 128)         0         \n_________________________________________________________________\nconv2d_27 (Conv2D)           (None, 4, 4, 128)         409728    \n_________________________________________________________________\ndense_33 (Dense)             (None, 4, 4, 256)         33024     \n_________________________________________________________________\nflatten_6 (Flatten)          (None, 4096)              0         \n_________________________________________________________________\ndense_34 (Dense)             (None, 7)                 28679     \n=================================================================\nTotal params: 529,031\nTrainable params: 529,031\nNon-trainable params: 0\n_________________________________________________________________\n"
     ]
    }
   ],
   "source": [
    "model = Sequential()\n",
    "\n",
    "model.add(Conv2D(16, kernel_size=3, activation='elu', kernel_initializer='he_uniform', padding='same', input_shape=(taille_image.shape)))\n",
    "model.add(MaxPooling2D(pool_size=(2, 2)))\n",
    "model.add(Dense(32, activation='elu'))\n",
    "model.add(Dropout(0.2))\n",
    "\n",
    "model.add(Conv2D(32, kernel_size=3, activation='elu', kernel_initializer='he_uniform', padding='same'))\n",
    "model.add(MaxPooling2D(pool_size=(2, 2)))\n",
    "model.add(Dense(64, activation='elu'))\n",
    "model.add(Dropout(0.2))\n",
    "\n",
    "model.add(Conv2D(64, kernel_size=3, activation='elu', kernel_initializer='he_uniform', padding='same'))\n",
    "model.add(MaxPooling2D(pool_size=(2, 2)))\n",
    "model.add(Dense(128, activation='elu'))\n",
    "model.add(Dropout(0.2))\n",
    "\n",
    "model.add(Conv2D(128, kernel_size=5, activation='elu', kernel_initializer='he_uniform', padding='same'))\n",
    "model.add(Dense(256, activation='elu'))\n",
    "\n",
    "#Toujours à la fin\n",
    "model.add(Flatten())\n",
    "model.add(Dense(7, activation='softmax'))\n",
    "\n",
    "model.summary()"
   ]
  },
  {
   "cell_type": "code",
   "execution_count": 56,
   "metadata": {},
   "outputs": [
    {
     "output_type": "stream",
     "name": "stdout",
     "text": [
      "WARNING:tensorflow:sample_weight modes were coerced from\n",
      "  ...\n",
      "    to  \n",
      "  ['...']\n",
      "WARNING:tensorflow:sample_weight modes were coerced from\n",
      "  ...\n",
      "    to  \n",
      "  ['...']\n",
      "Train for 88 steps, validate for 22 steps\n",
      "88/88 [==============================] - 35s 395ms/step - loss: 5.1049 - accuracy: 0.2521 - val_loss: 1.7129 - val_accuracy: 0.3657\n"
     ]
    }
   ],
   "source": [
    "model.compile(optimizer='adam', loss='categorical_crossentropy', metrics=['accuracy'])\n",
    "\n",
    "es_callback = EarlyStopping(monitor='val_loss', patience=patience)\n",
    "\n",
    "training = model.fit_generator(train_generator, epochs=epochs, callbacks=[es_callback], validation_data=validation_generator, shuffle=False)\n"
   ]
  },
  {
   "cell_type": "code",
   "execution_count": 57,
   "metadata": {},
   "outputs": [],
   "source": [
    "with mlflow.start_run():\n",
    "\n",
    "    # Log parameters\n",
    "    mlflow.log_param(\"Epochs\", epochs)\n",
    "    mlflow.log_param(\"Patience\", patience)\n",
    "    \n",
    "    # Log metrics\n",
    "    mlflow.log_metric(\"Training Accuracy\", training.history['accuracy'][-1])\n",
    "    mlflow.log_metric(\"Validation Accuracy\", training.history['val_accuracy'][-1])\n",
    "    mlflow.log_metric(\"Training Loss\", training.history['loss'][-1])\n",
    "    mlflow.log_metric(\"Validation Loss\", training.history['val_loss'][-1])\n",
    "   \n",
    "    # Log model\n",
    "    mlflow.keras.log_model(model, \"model\")"
   ]
  }
 ],
 "metadata": {
  "kernelspec": {
   "name": "python3",
   "display_name": "Python 3.7.9 64-bit ('sandbox': conda)",
   "metadata": {
    "interpreter": {
     "hash": "02391554d15ee54b93935ec41124d90fc7ff686c339577a3d4f7c9a886f93d13"
    }
   }
  },
  "language_info": {
   "codemirror_mode": {
    "name": "ipython",
    "version": 3
   },
   "file_extension": ".py",
   "mimetype": "text/x-python",
   "name": "python",
   "nbconvert_exporter": "python",
   "pygments_lexer": "ipython3",
   "version": "3.7.9-final"
  }
 },
 "nbformat": 4,
 "nbformat_minor": 2
}